{
 "cells": [
  {
   "cell_type": "code",
   "execution_count": 1,
   "id": "09b50663",
   "metadata": {},
   "outputs": [],
   "source": [
    "#Daily Temperatures"
   ]
  },
  {
   "cell_type": "code",
   "execution_count": 2,
   "id": "62753699",
   "metadata": {},
   "outputs": [],
   "source": [
    "temperatures = [73,74,75,71,69,72,76,73,]\n",
    "#myList = [73,74,75,71,69,72,76,73]"
   ]
  },
  {
   "cell_type": "code",
   "execution_count": 3,
   "id": "cb76b043",
   "metadata": {},
   "outputs": [],
   "source": [
    "def solution():\n",
    "    \n",
    "    result = [0] * len(temperatures)\n",
    "    \n",
    "    myStack = []\n",
    "    \n",
    "    for ix, temperature in enumerate(temperatures):\n",
    "        \n",
    "        while myStack and temperature > myStack[-1][0]:\n",
    "        \n",
    "            stackTemp, stackIndex = myStack.pop()\n",
    "            \n",
    "            result[stackIndex] = ix - stackIndex\n",
    "            \n",
    "        myStack.append([temperature,ix])\n",
    "          \n",
    "    return result"
   ]
  },
  {
   "cell_type": "code",
   "execution_count": 4,
   "id": "b6a95f21",
   "metadata": {},
   "outputs": [
    {
     "data": {
      "text/plain": [
       "[1, 1, 4, 2, 1, 1, 0, 0]"
      ]
     },
     "execution_count": 4,
     "metadata": {},
     "output_type": "execute_result"
    }
   ],
   "source": [
    "solution()"
   ]
  },
  {
   "cell_type": "code",
   "execution_count": 10,
   "id": "47b796ed",
   "metadata": {},
   "outputs": [],
   "source": [
    "temperatures = [73,74,75,71,69,72,76,73,90]"
   ]
  },
  {
   "cell_type": "code",
   "execution_count": 11,
   "id": "44128545",
   "metadata": {},
   "outputs": [],
   "source": [
    "def solution():\n",
    "    \n",
    "    result = [0] * len(temperatures)\n",
    "    \n",
    "    myStack = []\n",
    "    \n",
    "    for ix, temperature in enumerate(temperatures):\n",
    "        \n",
    "        while myStack and temperature > myStack[-1][0]:\n",
    "        \n",
    "            stackTemp, stackIndex = myStack.pop()\n",
    "            \n",
    "            result[stackIndex] = ix - stackIndex\n",
    "            \n",
    "        myStack.append([temperature,ix])\n",
    "            \n",
    "    return result"
   ]
  },
  {
   "cell_type": "code",
   "execution_count": 12,
   "id": "e17f6081",
   "metadata": {},
   "outputs": [
    {
     "data": {
      "text/plain": [
       "[1, 1, 4, 2, 1, 1, 2, 1, 0]"
      ]
     },
     "execution_count": 12,
     "metadata": {},
     "output_type": "execute_result"
    }
   ],
   "source": [
    "solution()"
   ]
  },
  {
   "cell_type": "code",
   "execution_count": 16,
   "id": "e03b8349",
   "metadata": {},
   "outputs": [],
   "source": [
    "temperatures = [73,74,75,71,69,72,76,73,5]"
   ]
  },
  {
   "cell_type": "code",
   "execution_count": 17,
   "id": "6bbde82a",
   "metadata": {},
   "outputs": [],
   "source": [
    "def solution():\n",
    "    \n",
    "    result = [0] * len(temperatures)\n",
    "    \n",
    "    myStack = []\n",
    "    \n",
    "    \n",
    "    for ix, temperature in enumerate(temperatures):\n",
    "       \n",
    "        while myStack and temperature > myStack[-1][0]:\n",
    "        \n",
    "            stackTemp, stackIndex = myStack.pop()\n",
    "            \n",
    "            result[stackIndex] = ix - stackIndex\n",
    "            \n",
    "        myStack.append([temperature,ix])\n",
    "            \n",
    "    return result"
   ]
  },
  {
   "cell_type": "code",
   "execution_count": 18,
   "id": "9a496feb",
   "metadata": {},
   "outputs": [
    {
     "data": {
      "text/plain": [
       "[1, 1, 4, 2, 1, 1, 0, 0, 0]"
      ]
     },
     "execution_count": 18,
     "metadata": {},
     "output_type": "execute_result"
    }
   ],
   "source": [
    "solution()"
   ]
  },
  {
   "cell_type": "code",
   "execution_count": 22,
   "id": "6dd427d6",
   "metadata": {},
   "outputs": [],
   "source": [
    "temperatures = [10,74,75,71,69,72,76,73,5]"
   ]
  },
  {
   "cell_type": "code",
   "execution_count": 23,
   "id": "cdbd910b",
   "metadata": {},
   "outputs": [],
   "source": [
    "def solution():\n",
    "    \n",
    "    result = [0] * len(temperatures)\n",
    "    \n",
    "    myStack = []\n",
    "    \n",
    "    \n",
    "    for ix, temperature in enumerate(temperatures):\n",
    "        \n",
    "        while myStack and temperature > myStack[-1][0]:\n",
    "        \n",
    "            stackTemp, stackIndex = myStack.pop()\n",
    "            \n",
    "            result[stackIndex] = ix - stackIndex\n",
    "            \n",
    "        myStack.append([temperature,ix])\n",
    "            \n",
    "    return result"
   ]
  },
  {
   "cell_type": "code",
   "execution_count": 24,
   "id": "5cec83d1",
   "metadata": {},
   "outputs": [
    {
     "data": {
      "text/plain": [
       "[1, 1, 4, 2, 1, 1, 0, 0, 0]"
      ]
     },
     "execution_count": 24,
     "metadata": {},
     "output_type": "execute_result"
    }
   ],
   "source": [
    "solution()"
   ]
  },
  {
   "cell_type": "code",
   "execution_count": 28,
   "id": "d55c167f",
   "metadata": {},
   "outputs": [],
   "source": [
    "temperatures = [100,74,75,71,69,72,76,73,5]"
   ]
  },
  {
   "cell_type": "code",
   "execution_count": 29,
   "id": "3d0c0283",
   "metadata": {},
   "outputs": [],
   "source": [
    "def solution():\n",
    "    \n",
    "    result = [0] * len(temperatures)\n",
    "    \n",
    "    myStack = []\n",
    "    \n",
    "    \n",
    "    for ix, temperature in enumerate(temperatures):\n",
    "       \n",
    "        while myStack and temperature > myStack[-1][0]:\n",
    "        \n",
    "            stackTemp, stackIndex = myStack.pop()\n",
    "            \n",
    "            result[stackIndex] = ix - stackIndex\n",
    "            \n",
    "        myStack.append([temperature,ix])\n",
    "         \n",
    "    return result"
   ]
  },
  {
   "cell_type": "code",
   "execution_count": 30,
   "id": "e3d7a17c",
   "metadata": {},
   "outputs": [
    {
     "data": {
      "text/plain": [
       "[0, 1, 4, 2, 1, 1, 0, 0, 0]"
      ]
     },
     "execution_count": 30,
     "metadata": {},
     "output_type": "execute_result"
    }
   ],
   "source": [
    "solution()"
   ]
  }
 ],
 "metadata": {
  "kernelspec": {
   "display_name": "Python 3 (ipykernel)",
   "language": "python",
   "name": "python3"
  },
  "language_info": {
   "codemirror_mode": {
    "name": "ipython",
    "version": 3
   },
   "file_extension": ".py",
   "mimetype": "text/x-python",
   "name": "python",
   "nbconvert_exporter": "python",
   "pygments_lexer": "ipython3",
   "version": "3.9.13"
  }
 },
 "nbformat": 4,
 "nbformat_minor": 5
}
